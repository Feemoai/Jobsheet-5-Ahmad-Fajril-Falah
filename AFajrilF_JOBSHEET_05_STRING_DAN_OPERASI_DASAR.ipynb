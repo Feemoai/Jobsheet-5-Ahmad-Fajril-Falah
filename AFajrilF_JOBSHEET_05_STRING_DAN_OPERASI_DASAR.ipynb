{
  "nbformat": 4,
  "nbformat_minor": 0,
  "metadata": {
    "colab": {
      "provenance": [],
      "authorship_tag": "ABX9TyOZfsWqANkQ51lKHs/Uwofe",
      "include_colab_link": true
    },
    "kernelspec": {
      "name": "python3",
      "display_name": "Python 3"
    },
    "language_info": {
      "name": "python"
    }
  },
  "cells": [
    {
      "cell_type": "markdown",
      "metadata": {
        "id": "view-in-github",
        "colab_type": "text"
      },
      "source": [
        "<a href=\"https://colab.research.google.com/github/Feemoai/Jobsheet-5-Ahmad-Fajril-Falah-/blob/main/AFajrilF_JOBSHEET_05_STRING_DAN_OPERASI_DASAR.ipynb\" target=\"_parent\"><img src=\"https://colab.research.google.com/assets/colab-badge.svg\" alt=\"Open In Colab\"/></a>"
      ]
    },
    {
      "cell_type": "markdown",
      "source": [
        "**JOBSHEET 05 : STRING DAN OPERASI DASAR**\n",
        "\n",
        "\n",
        "Dosen:\n",
        "Ir. Prayitno, S.ST., M.T., Ph.D.\n",
        "\n",
        "Nama Mahasiswa\t: Ahmad Fajril Falah\n",
        "\n",
        "NIM Mahasiswa\t: 4.33.25.1.01\n",
        "\n",
        "---\n",
        "\n"
      ],
      "metadata": {
        "id": "_N-kg_dpMHBx"
      }
    },
    {
      "cell_type": "markdown",
      "source": [
        "Praktikum 01 – Indexing dan Slicing\n",
        "\n",
        "---\n",
        "\n"
      ],
      "metadata": {
        "id": "yNDy3hVbMGwf"
      }
    },
    {
      "cell_type": "code",
      "execution_count": 1,
      "metadata": {
        "colab": {
          "base_uri": "https://localhost:8080/"
        },
        "id": "BxMiBwqnME1D",
        "outputId": "a90e24d5-5d5e-4e43-ae30-c07b1ca47c52"
      },
      "outputs": [
        {
          "output_type": "stream",
          "name": "stdout",
          "text": [
            "P\n",
            "Politeknik \n",
            "Semarang\n"
          ]
        }
      ],
      "source": [
        "teks = \"Politeknik Negeri Semarang\"\n",
        "print(teks[0])\t# 'P'\n",
        "print(teks[0:11])\t# 'Politeknik'\n",
        "print(teks[-8:])\t # 'Semarang'"
      ]
    },
    {
      "cell_type": "markdown",
      "source": [
        "Praktikum 02 – Method Bawaan String\n",
        "\n",
        "---\n",
        "\n"
      ],
      "metadata": {
        "id": "wusUI8-iMnmo"
      }
    },
    {
      "cell_type": "code",
      "source": [
        "teks = \" Politeknik Negeri Semarang \"\n",
        "print(teks.upper())\n",
        "print(teks.lower())\n",
        "print(teks.title())\n",
        "print(teks.strip())\n",
        "print(teks.split(\" \"))\n",
        "print(\"-\".join([\"Politeknik\",\"Negeri\",\"Semarang\"]))\n"
      ],
      "metadata": {
        "colab": {
          "base_uri": "https://localhost:8080/"
        },
        "id": "MWOsgxUtMpXx",
        "outputId": "ff0564b6-1f2f-49a8-e8e4-de8ad8a37abb"
      },
      "execution_count": 3,
      "outputs": [
        {
          "output_type": "stream",
          "name": "stdout",
          "text": [
            " POLITEKNIK NEGERI SEMARANG \n",
            " politeknik negeri semarang \n",
            " Politeknik Negeri Semarang \n",
            "Politeknik Negeri Semarang\n",
            "['', 'Politeknik', 'Negeri', 'Semarang', '']\n",
            "Politeknik-Negeri-Semarang\n"
          ]
        }
      ]
    },
    {
      "cell_type": "markdown",
      "source": [
        "Praktikum 03 – Validasi Password\n",
        "\n",
        "---\n",
        "\n"
      ],
      "metadata": {
        "id": "xa7ln2v4OM_0"
      }
    },
    {
      "cell_type": "code",
      "source": [
        "password = input(\"Masukkan password: \")\n",
        "\n",
        "if len(password) >= 8:\n",
        "  print(\"Password valid\")\n",
        "else:\n",
        "  print(\"Password terlalu pendek\")\n"
      ],
      "metadata": {
        "colab": {
          "base_uri": "https://localhost:8080/"
        },
        "id": "WJSsP9FJON8N",
        "outputId": "619c55ca-6be8-4c03-c7e0-93de011122e6"
      },
      "execution_count": 18,
      "outputs": [
        {
          "output_type": "stream",
          "name": "stdout",
          "text": [
            "Masukkan password: abc\n",
            "Password terlalu pendek\n"
          ]
        }
      ]
    },
    {
      "cell_type": "markdown",
      "source": [
        "Praktikum 04 – String Formatting dengan F-String\n",
        "\n",
        "---\n",
        "\n"
      ],
      "metadata": {
        "id": "0CR85udtOkll"
      }
    },
    {
      "cell_type": "code",
      "source": [
        "nama = input(\"Masukkan nama: \")\n",
        "umur = int(input(\"Masukkan umur: \"))\n",
        "print(f\"Nama saya {nama}, umur {umur} tahun.\")\n"
      ],
      "metadata": {
        "colab": {
          "base_uri": "https://localhost:8080/"
        },
        "id": "SPbvjx7qOmyi",
        "outputId": "8ebcb191-07c7-4483-91e0-1bbf89642775"
      },
      "execution_count": 19,
      "outputs": [
        {
          "output_type": "stream",
          "name": "stdout",
          "text": [
            "Masukkan nama: Budi\n",
            "Masukkan umur: 21\n",
            "Nama saya Budi, umur 21 tahun.\n"
          ]
        }
      ]
    },
    {
      "cell_type": "markdown",
      "source": [
        "Praktikum 05 – Operasi dalam F-String\n",
        "\n",
        "---\n",
        "\n"
      ],
      "metadata": {
        "id": "RrL4g7uKOv1v"
      }
    },
    {
      "cell_type": "code",
      "source": [
        "a = int(input(\"Masukkan nilai a: \"))\n",
        "b = int(input(\"Masukkan nilai b: \"))\n",
        "print(f\"Hasil penjumlahan {a}+{b} = {a+b}\")\n",
        "print(f\"Hasil pembagian {a}/{b} = {a/b:.2f}\")\n"
      ],
      "metadata": {
        "colab": {
          "base_uri": "https://localhost:8080/"
        },
        "id": "zsvQz0DgOyKH",
        "outputId": "0b6d0140-5a09-464f-e7a1-638bf51f9792"
      },
      "execution_count": 20,
      "outputs": [
        {
          "output_type": "stream",
          "name": "stdout",
          "text": [
            "Masukkan nilai a: 10\n",
            "Masukkan nilai b: 3\n",
            "Hasil penjumlahan 10+3 = 13\n",
            "Hasil pembagian 10/3 = 3.33\n"
          ]
        }
      ]
    },
    {
      "cell_type": "markdown",
      "source": [
        "Praktikum 06 – Casting String\n",
        "\n",
        "---\n",
        "\n"
      ],
      "metadata": {
        "id": "1zSHm6f3O30o"
      }
    },
    {
      "cell_type": "code",
      "source": [
        "angka = 123\n",
        "teks = \"456\"\n",
        "\n",
        "print(\"Nilai: \" + str(angka))\n",
        "print(int(teks) + 10)\n"
      ],
      "metadata": {
        "colab": {
          "base_uri": "https://localhost:8080/"
        },
        "id": "GQ4WK9lYO6Aw",
        "outputId": "59fabef6-b130-4010-d8ed-e50193be4b53"
      },
      "execution_count": 12,
      "outputs": [
        {
          "output_type": "stream",
          "name": "stdout",
          "text": [
            "Nilai: 123\n",
            "466\n"
          ]
        }
      ]
    },
    {
      "cell_type": "markdown",
      "source": [
        "Praktikum 07 – Studi Kasus Nyata: Analisis Kalimat\n",
        "\n",
        "---\n",
        "\n"
      ],
      "metadata": {
        "id": "nYMKvUiIPCuy"
      }
    },
    {
      "cell_type": "code",
      "source": [
        "kalimat = \"Saya kuliah di Politeknik Negeri Semarang\"\n",
        "daftar_kata = kalimat.split(\" \")\n",
        "\n",
        "print(f\"Jumlah kata: {len(daftar_kata)}\")\n",
        "for i, kata in enumerate(daftar_kata, start=1):\n",
        "  print(i, kata)\n"
      ],
      "metadata": {
        "colab": {
          "base_uri": "https://localhost:8080/"
        },
        "id": "kqFgi56GPGb_",
        "outputId": "03ac62ba-a7d1-41c1-a05f-e97b14f60706"
      },
      "execution_count": 14,
      "outputs": [
        {
          "output_type": "stream",
          "name": "stdout",
          "text": [
            "Jumlah kata: 6\n",
            "1 Saya\n",
            "2 kuliah\n",
            "3 di\n",
            "4 Politeknik\n",
            "5 Negeri\n",
            "6 Semarang\n"
          ]
        }
      ]
    },
    {
      "cell_type": "markdown",
      "source": [
        "**⬇⬇ Penugasan Jobsheet 05 ⬇⬇**\n",
        "\n",
        "---"
      ],
      "metadata": {
        "id": "We1EO-5hQf1T"
      }
    },
    {
      "cell_type": "markdown",
      "source": [
        "3.\tIndexing dan Slicing\n",
        "\n",
        "---\n",
        "\n"
      ],
      "metadata": {
        "id": "NpundJVJQflw"
      }
    },
    {
      "cell_type": "code",
      "source": [
        "print(\"Ahmad Fajril Falah\")\n",
        "print(\"3.Indexing dan Slicing\\n\")\n",
        "teks = \"Politeknik Negeri Semarang\"\n",
        "\n",
        "# Menampilkan huruf pertama\n",
        "print(\"Huruf pertama:\", teks[0])\n",
        "\n",
        "# Menampilkan huruf terakhir\n",
        "print(\"Huruf terakhir:\", teks[-1])\n",
        "\n",
        "# Menampilkan kata \"Negeri\" menggunakan slicing\n",
        "print(\"Kata 'Negeri':\", teks[11:18])\n"
      ],
      "metadata": {
        "colab": {
          "base_uri": "https://localhost:8080/"
        },
        "id": "kYN178v8QZO9",
        "outputId": "8f87706a-0663-4ee2-fb58-54d5f7fe7cb5"
      },
      "execution_count": 25,
      "outputs": [
        {
          "output_type": "stream",
          "name": "stdout",
          "text": [
            "Ahmad Fajril Falah\n",
            "3.Indexing dan Slicing\n",
            "\n",
            "Huruf pertama: P\n",
            "Huruf terakhir: g\n",
            "Kata 'Negeri': Negeri \n"
          ]
        }
      ]
    },
    {
      "cell_type": "markdown",
      "source": [
        "4.\tManipulasi String"
      ],
      "metadata": {
        "id": "1dbVehMjXg1p"
      }
    },
    {
      "cell_type": "code",
      "source": [
        "print(\"Ahmad Fajril Falah\")\n",
        "print(\"4.Manipulasi String\\n\")\n",
        "kalimat = input(\"Masukkan sebuah kalimat: \")\n",
        "\n",
        "# Semua huruf kapital\n",
        "print(\"Huruf kapital :\", kalimat.upper())\n",
        "\n",
        "# Semua huruf kecil\n",
        "print(\"Huruf kecil   :\", kalimat.lower())\n",
        "\n",
        "# Panjang kalimat\n",
        "print(\"Panjang kalimat:\", len(kalimat))\n"
      ],
      "metadata": {
        "colab": {
          "base_uri": "https://localhost:8080/"
        },
        "id": "gL5DWXGOVs9o",
        "outputId": "399b7a67-50e0-4012-c13f-67ab2e5745c8"
      },
      "execution_count": 26,
      "outputs": [
        {
          "output_type": "stream",
          "name": "stdout",
          "text": [
            "Ahmad Fajril Falah\n",
            "4.Manipulasi String\n",
            "\n",
            "Masukkan sebuah kalimat: Ahmad Fajril Falah\n",
            "Huruf kapital : AHMAD FAJRIL FALAH\n",
            "Huruf kecil   : ahmad fajril falah\n",
            "Panjang kalimat: 18\n"
          ]
        }
      ]
    },
    {
      "cell_type": "markdown",
      "source": [
        "5.\tValidasi Username"
      ],
      "metadata": {
        "id": "kt8HCeq1bO4r"
      }
    },
    {
      "cell_type": "code",
      "source": [
        "print(\"Ahmad Fajril Falah\")\n",
        "print(\"5.Validasi Username\\n\")\n",
        "username = input(\"Masukkan username: \")\n",
        "\n",
        "# Mengecek apakah username mengandung spasi\n",
        "if \" \" in username:\n",
        "    print(\"Error: Username tidak boleh mengandung spasi!\")\n",
        "else:\n",
        "    print(\"Username valid.\")\n"
      ],
      "metadata": {
        "colab": {
          "base_uri": "https://localhost:8080/"
        },
        "id": "Y-7FCRJMbJeW",
        "outputId": "6b4061c0-61f3-415c-a5d3-4e0c2e90a5a2"
      },
      "execution_count": 32,
      "outputs": [
        {
          "output_type": "stream",
          "name": "stdout",
          "text": [
            "Ahmad Fajril Falah\n",
            "5.Validasi Username\n",
            "\n",
            "Masukkan username: a fajril f\n",
            "Error: Username tidak boleh mengandung spasi!\n"
          ]
        }
      ]
    },
    {
      "cell_type": "markdown",
      "source": [
        "6.\tString Formatting dengan F-String\n",
        "\n",
        "---\n",
        "\n"
      ],
      "metadata": {
        "id": "V6-oxETxfUPz"
      }
    },
    {
      "cell_type": "code",
      "source": [
        "print(\"Ahmad Fajril Falah\")\n",
        "print(\"6.String Formatting dengan F-String\\n\")\n",
        "nama = input(\"Masukkan nama: \")\n",
        "umur = input(\"Masukkan umur: \")\n",
        "jurusan = input(\"Masukkan jurusan: \")\n",
        "\n",
        "# Menampilkan biodata dengan f-string\n",
        "print(f\"\\nNama    : {nama}\")\n",
        "print(f\"Umur    : {umur}\")\n",
        "print(f\"Jurusan : {jurusan}\")\n"
      ],
      "metadata": {
        "colab": {
          "base_uri": "https://localhost:8080/"
        },
        "id": "ga7qG4noekU6",
        "outputId": "502c7d5c-9230-4c71-ef8b-8e305270c856"
      },
      "execution_count": 36,
      "outputs": [
        {
          "output_type": "stream",
          "name": "stdout",
          "text": [
            "Ahmad Fajril Falah\n",
            "6.String Formatting dengan F-String\n",
            "\n",
            "Masukkan nama: Ahmad Fajril Falah\n",
            "Masukkan umur: 19\n",
            "Masukkan jurusan: Teknologi Rekayasa Komputer\n",
            "\n",
            "Nama    : Ahmad Fajril Falah\n",
            "Umur    : 19\n",
            "Jurusan : Teknologi Rekayasa Komputer\n"
          ]
        }
      ]
    },
    {
      "cell_type": "markdown",
      "source": [
        "7.\tOperasi dalam F-String\n",
        "\n",
        "---\n",
        "\n"
      ],
      "metadata": {
        "id": "_SjMYFiFiq7L"
      }
    },
    {
      "cell_type": "code",
      "source": [
        "print(\"Ahmad Fajril Falah\")\n",
        "print(\"7.Operasi dalam F-String\\n\")\n",
        "a = float(input(\"Masukkan bilangan pertama: \"))\n",
        "b = float(input(\"Masukkan bilangan kedua: \"))\n",
        "\n",
        "# Menampilkan hasil operasi dengan f-string\n",
        "print(f\"\\nHasil Penjumlahan: {a + b}\")\n",
        "print(f\"Hasil Perkalian: {a * b}\")\n",
        "print(f\"Hasil Pembagian: {a / b:.3f}\")\n"
      ],
      "metadata": {
        "colab": {
          "base_uri": "https://localhost:8080/"
        },
        "id": "ugaqyDpliiTB",
        "outputId": "4bc691c7-bc50-4b0d-937a-af58145f0d23"
      },
      "execution_count": 38,
      "outputs": [
        {
          "output_type": "stream",
          "name": "stdout",
          "text": [
            "Ahmad Fajril Falah\n",
            "7.Operasi dalam F-String\n",
            "\n",
            "Masukkan bilangan pertama: 5\n",
            "Masukkan bilangan kedua: 8\n",
            "\n",
            "Hasil Penjumlahan: 13.0\n",
            "Hasil Perkalian: 40.0\n",
            "Hasil Pembagian: 0.625\n"
          ]
        }
      ]
    },
    {
      "cell_type": "markdown",
      "source": [
        "8.\tCasting Data\n",
        "\n",
        "---\n",
        "\n"
      ],
      "metadata": {
        "id": "RgkFCaTdmzhz"
      }
    },
    {
      "cell_type": "code",
      "source": [
        "print(\"Ahmad Fajril Falah\")\n",
        "print(\"8.Casting Data\\n\")\n",
        "angka = input(\"Masukkan sebuah angka: \")\n",
        "\n",
        "# Ubah menjadi integer untuk menghitung kuadrat\n",
        "angka_int = int(angka)\n",
        "print(f\"Kuadrat dari {angka_int} adalah {angka_int ** 2}\")\n",
        "\n",
        "# Ubah menjadi float untuk ditampilkan dengan 2 angka di belakang koma\n",
        "angka_float = float(angka)\n",
        "print(f\"Angka dalam format desimal: {angka_float:.2f}\")"
      ],
      "metadata": {
        "colab": {
          "base_uri": "https://localhost:8080/"
        },
        "id": "H4Q6pdNAmXv6",
        "outputId": "6f404ce7-b62a-4150-8a31-27dae4ca154a"
      },
      "execution_count": 40,
      "outputs": [
        {
          "output_type": "stream",
          "name": "stdout",
          "text": [
            "Ahmad Fajril Falah\n",
            "8.Casting Data\n",
            "\n",
            "Masukkan sebuah angka: 5\n",
            "Kuadrat dari 5 adalah 25\n",
            "Angka dalam format desimal: 5.00\n"
          ]
        }
      ]
    },
    {
      "cell_type": "markdown",
      "source": [
        "9.\tStudi Kasus – Analisis Teks\n",
        "\n",
        "---\n",
        "\n"
      ],
      "metadata": {
        "id": "GvEbr3IjpabH"
      }
    },
    {
      "cell_type": "code",
      "source": [
        "print(\"Ahmad Fajril Falah\")\n",
        "print(\"9.Studi Kasus – Analisis Teks\\n\")\n",
        "kalimat = input(\"Masukkan sebuah kalimat: \")\n",
        "\n",
        "# Memecah kalimat menjadi list kata\n",
        "kata_list = kalimat.split()\n",
        "\n",
        "# Menghitung jumlah kata\n",
        "jumlah_kata = len(kata_list)\n",
        "\n",
        "# Mencari kata terpanjang\n",
        "kata_terpanjang = max(kata_list, key=len)\n",
        "\n",
        "# Mengurutkan kata secara alfabet\n",
        "kata_urut = sorted(kata_list)\n",
        "\n",
        "print(f\"\\nJumlah kata: {jumlah_kata}\")\n",
        "print(f\"Kata terpanjang: {kata_terpanjang}\")\n",
        "print(f\"Urutan abjad: {kata_urut}\")\n"
      ],
      "metadata": {
        "colab": {
          "base_uri": "https://localhost:8080/"
        },
        "id": "A5Z3gsm9pbMe",
        "outputId": "71135c42-5af1-49a9-b999-5dc5fb3cc76d"
      },
      "execution_count": 45,
      "outputs": [
        {
          "output_type": "stream",
          "name": "stdout",
          "text": [
            "Ahmad Fajril Falah\n",
            "9.Studi Kasus – Analisis Teks\n",
            "\n",
            "Masukkan sebuah kalimat: Saya Berkuliah Di Politeknik Negeri Semarang\n",
            "\n",
            "Jumlah kata: 6\n",
            "Kata terpanjang: Politeknik\n",
            "Urutan abjad: ['Berkuliah', 'Di', 'Negeri', 'Politeknik', 'Saya', 'Semarang']\n"
          ]
        }
      ]
    }
  ]
}